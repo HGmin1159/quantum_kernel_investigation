{
 "cells": [
  {
   "cell_type": "code",
   "execution_count": 13,
   "id": "b26f9675",
   "metadata": {},
   "outputs": [],
   "source": [
    "import numpy as np\n",
    "import pandas as pd\n",
    "import matplotlib.pyplot as plt\n",
    "from Quantum_Kernel import *\n",
    "import time\n",
    "\n",
    "%matplotlib inline\n",
    "# Importing standard Qiskit libraries and configuring account\n",
    "from qiskit import QuantumCircuit , transpile, Aer ,IBMQ\n",
    "from qiskit.visualization import *\n",
    "from qiskit.tools.jupyter import *\n",
    "from qiskit.providers.ibmq import least_busy\n",
    "from qiskit.providers.aer import QasmSimulator\n",
    "\n",
    "from qiskit import Aer, QuantumCircuit\n",
    "from qiskit.opflow import Z, I, StateFn\n",
    "from qiskit.utils import QuantumInstance\n",
    "from qiskit.circuit import Parameter\n",
    "from qiskit.circuit.library import RealAmplitudes, ZZFeatureMap\n",
    "from qiskit.algorithms.optimizers import *\n",
    "\n",
    "from qiskit.opflow import StateFn, PauliSumOp, AerPauliExpectation, ListOp, Gradient\n",
    "from qiskit_machine_learning.neural_networks import OpflowQNN\n",
    "import qiskit.quantum_info as qi\n",
    "from scipy import optimize\n",
    "from qiskit.opflow.gradients import Gradient\n",
    "from typing import Union\n",
    "\n",
    "from IPython.display import clear_output\n",
    "from scipy.optimize import approx_fprime\n",
    "from tqdm import tqdm\n",
    "\n",
    "\n",
    "import warnings\n",
    "warnings.filterwarnings(\"ignore\")\n"
   ]
  },
  {
   "cell_type": "code",
   "execution_count": 14,
   "id": "6c657b35",
   "metadata": {},
   "outputs": [
    {
     "name": "stderr",
     "output_type": "stream",
     "text": [
      "ibmqfactory.load_account:WARNING:2022-11-27 20:51:28,530: Credentials are already in use. The existing account in the session will be replaced.\n"
     ]
    }
   ],
   "source": [
    "# Loading your IBM Quantum account(s)\n",
    "from qiskit import IBMQ\n",
    "\n",
    "# IBMQ.save_account(TOKEN)\n",
    "IBMQ.load_account() # Load account from disk\n",
    "provider = IBMQ.get_provider(hub='ibm-q-kqc', group='internal', project='default')"
   ]
  },
  {
   "cell_type": "code",
   "execution_count": 15,
   "id": "564f193d",
   "metadata": {},
   "outputs": [],
   "source": [
    "def simple_kernel_A(x,repeat=5):\n",
    "    qc = QuantumCircuit(repeat)\n",
    "    for i in range(repeat) :\n",
    "        qc.rx(x[0]*3**i,[i])\n",
    "    for i in range(repeat-1) :\n",
    "        qc.cx([i],[i+1])\n",
    "    qc.cx([repeat-1],[0])\n",
    "    for i in range(repeat-2) :\n",
    "        qc.cx([i],[i+2])\n",
    "    encode = qc\n",
    "    return [encode,repeat]\n",
    "def exponential_kernel_B(x,repeat=5):\n",
    "    qc = QuantumCircuit(repeat)\n",
    "    for i in range(repeat) :\n",
    "        qc.rx(x[0]*3**i,[i])\n",
    "    for i in range(repeat-1) :\n",
    "        qc.cx([i],[i+1])\n",
    "    qc.cx([repeat-1],[0])\n",
    "    for i in range(repeat) :\n",
    "        qc.ry(x[1]*3**i,[i])\n",
    "    for i in range(repeat-1) :\n",
    "        qc.cx([i],[i+1])\n",
    "    qc.cx([repeat-1],[0])\n",
    "\n",
    "    encode = qc\n",
    "    return [encode,repeat]\n",
    "def zz_kernel(x,repeat=1):\n",
    "    p = len(x)\n",
    "    qc = ZZFeatureMap(p, reps=repeat)\n",
    "    qc = qc.bind_parameters({qc.parameters[i]:x[i] for i in range(p)})\n",
    "    encode = qc\n",
    "    return [encode,p]\n",
    "    \n",
    "def Gram_gaussian(data,comp,version=\"H\") :\n",
    "    n = data.shape[0];p = data.shape[1] \n",
    "    U = np.matmul(data,data.T)\n",
    "    M = np.outer(np.diag(U),np.ones(shape=(n,1)))\n",
    "    J = np.outer(np.ones(shape=(n,1)),np.ones(shape=(n,1)))\n",
    "    Q = np.identity(n)-J/n\n",
    "    K = M+M.T-2*U\n",
    "    sigma = (np.sum(np.sqrt(K))-np.trace(np.sqrt(K)))/n/(n-1)\n",
    "    gamma = comp/sigma/sigma\n",
    "    result = np.exp(-K*gamma)\n",
    "    return(result)\n",
    "\n",
    "def Gram_gaussian_test(data1,data2,comp,version=\"H\") :\n",
    "    n = data1.shape[0];p = data1.shape[1] \n",
    "    m = data2.shape[0]\n",
    "\n",
    "    U = np.matmul(data1,data1.T)\n",
    "    M = np.outer(np.diag(U),np.ones(shape=(n,1)))\n",
    "    K = M+M.T-2*U\n",
    "\n",
    "    M_new = np.outer(np.diag(U),np.ones(shape=(m,1)))\n",
    "    U_new = np.matmul(data1,data2.T)\n",
    "    T_new = np.outer(np.diag(np.matmul(data2,data2.T)),np.ones(shape=(n,1)))\n",
    "    K_new = M_new+T_new.T-2*U_new\n",
    "\n",
    "    sigma = (np.sum(np.sqrt(K))-np.trace(np.sqrt(K)))/n/(n-1)\n",
    "    gamma = comp/sigma/sigma\n",
    "    result = np.exp(-K_new*gamma)\n",
    "    return(result)"
   ]
  },
  {
   "cell_type": "code",
   "execution_count": 16,
   "id": "60b1038a",
   "metadata": {},
   "outputs": [],
   "source": [
    "n_samples = 100\n",
    "blobs_params = dict(random_state=0, n_samples=n_samples, n_features=2)\n",
    "\n",
    "import numpy as np\n",
    "import matplotlib.pyplot as plt\n",
    "\n",
    "from sklearn.datasets import make_circles,make_blobs,make_moons,make_classification\n",
    "\n",
    "np.random.seed(0)\n",
    "\n",
    "data0_X,data0_y = make_circles(n_samples=n_samples, factor=.5, noise=.025)\n",
    "data0_X = data0_X*5\n",
    "data1_X,data1_y = make_moons(n_samples=n_samples, noise=0.025, random_state=0)\n",
    "data2_X,data2_y = make_blobs(centers=[[2, 2], [-2, -2]], cluster_std=[1, 1], **blobs_params)\n",
    "data3_X,data3_y = make_blobs(centers=[[1, 1], [-1, -1]], cluster_std=[1, 1], **blobs_params)\n",
    "data4_X,data4_y = make_classification(n_samples=n_samples,n_features=2, n_redundant=0, n_informative=2, random_state=1, n_clusters_per_class=1)\n",
    "rng = np.random.RandomState(2)\n",
    "data4_X += rng.uniform(size=data4_X.shape)*2\n",
    "\n",
    "datasets_X = [data0_X,data1_X,data2_X,data3_X,data4_X]\n",
    "datasets_y = [data0_y,data1_y,data2_y,data3_y,data4_y]\n"
   ]
  },
  {
   "cell_type": "code",
   "execution_count": 17,
   "id": "7b307078",
   "metadata": {},
   "outputs": [],
   "source": [
    "datasets_X_S = []\n",
    "for i in range(5):\n",
    "    data_temp = datasets_X[i]\n",
    "    data_temp_scale = np.pi*(data_temp-np.min(data_temp))/(np.max(data_temp)-np.min(data_temp))\n",
    "    datasets_X_S += [np.array(data_temp_scale)]"
   ]
  },
  {
   "cell_type": "code",
   "execution_count": 18,
   "id": "55aa0c0e",
   "metadata": {},
   "outputs": [
    {
     "data": {
      "image/png": "[encoded data removed]",
      "text/plain": [
       "<Figure size 1500x300 with 5 Axes>"
      ]
     },
     "metadata": {},
     "output_type": "display_data"
    }
   ],
   "source": [
    "plt.figure(figsize=(15,3))\n",
    "for i in range(5):\n",
    "    reds = datasets_y[i] == 0\n",
    "    blues = datasets_y[i] == 1\n",
    "\n",
    "    plt.subplot(1,5,i+1)\n",
    "    plt.scatter(datasets_X_S[i][reds,0], datasets_X_S[i][reds,1], c=\"red\",s=20, edgecolor='k')\n",
    "    plt.scatter(datasets_X_S[i][blues,0],datasets_X_S[i][blues,1], c=\"blue\",s=20, edgecolor='k')\n",
    "    "
   ]
  },
  {
   "cell_type": "code",
   "execution_count": 19,
   "id": "2e022103",
   "metadata": {},
   "outputs": [
    {
     "name": "stderr",
     "output_type": "stream",
     "text": [
      "100%|██████████| 80/80 [01:48<00:00,  1.36s/it]\n",
      "100%|██████████| 80/80 [00:56<00:00,  1.42it/s]\n",
      "100%|██████████| 80/80 [01:37<00:00,  1.22s/it]\n",
      "100%|██████████| 80/80 [00:50<00:00,  1.60it/s]\n",
      "100%|██████████| 80/80 [01:51<00:00,  1.40s/it]\n",
      "100%|██████████| 80/80 [00:56<00:00,  1.42it/s]\n",
      "100%|██████████| 80/80 [01:36<00:00,  1.20s/it]\n",
      "100%|██████████| 80/80 [00:49<00:00,  1.63it/s]\n",
      "100%|██████████| 80/80 [01:49<00:00,  1.36s/it]\n",
      "100%|██████████| 80/80 [00:55<00:00,  1.45it/s]\n",
      "100%|██████████| 80/80 [01:36<00:00,  1.20s/it]\n",
      "100%|██████████| 80/80 [00:49<00:00,  1.62it/s]\n",
      "100%|██████████| 80/80 [01:50<00:00,  1.38s/it]\n",
      "100%|██████████| 80/80 [00:55<00:00,  1.43it/s]\n",
      "100%|██████████| 80/80 [01:38<00:00,  1.23s/it]\n",
      "100%|██████████| 80/80 [00:51<00:00,  1.57it/s]\n",
      "100%|██████████| 80/80 [01:51<00:00,  1.39s/it]\n",
      "100%|██████████| 80/80 [00:55<00:00,  1.44it/s]\n",
      "100%|██████████| 80/80 [01:34<00:00,  1.18s/it]\n",
      "100%|██████████| 80/80 [00:47<00:00,  1.67it/s]\n"
     ]
    }
   ],
   "source": [
    "datasets_y_sto = []\n",
    "datasets_test_y_sto =[]\n",
    "sto_index_sets = []\n",
    "sto_index_test_sets = []\n",
    "gram_gaussian_set = []\n",
    "gram_gaussian_test_set = []\n",
    "gram_kernel_set = []\n",
    "gram_kernel_test_set = []\n",
    "gram_zz_kernel_set = []\n",
    "gram_zz_kernel_test_set = []\n",
    "comp=3\n",
    "\n",
    "\n",
    "sample = 80\n",
    "test_sample = 20\n",
    "backend = QasmSimulator()\n",
    "\n",
    "for i in range(5) :\n",
    "    sto_ind = np.random.randint(0,len(datasets_X_S[i]),sample)\n",
    "    data_sto = pd.DataFrame(datasets_X_S[i]).iloc[sto_ind,:]\n",
    "    data_sto_y =pd.DataFrame(datasets_y[i]).iloc[sto_ind,:]\n",
    "    sto_index_sets += [sto_ind]\n",
    "    \n",
    "    sto_ind = np.random.randint(0,len(datasets_X_S[i]),test_sample)\n",
    "    data_sto_test = pd.DataFrame(datasets_X_S[i]).iloc[sto_ind,:]\n",
    "    data_sto_test_y =pd.DataFrame(datasets_y[i]).iloc[sto_ind,:]\n",
    "    sto_index_test_sets += [sto_ind]\n",
    "\n",
    "    gram_gaussian_matrix = Gram_gaussian(data=data_sto,comp=comp)\n",
    "    gram_gaussian_test_matrix = Gram_gaussian_test(data_sto,data_sto_test,comp=comp)\n",
    "    gram_gaussian_set += [gram_gaussian_matrix]\n",
    "    gram_gaussian_test_set += [gram_gaussian_test_matrix]\n",
    "\n",
    "\n",
    "    gram_matrix = get_gram(data=data_sto,kernel_fun=exponential_kernel_B,layer=3,backend=backend,shots=1000)\n",
    "    gram_test_matrix = get_gram_test(data=data_sto,test_data = data_sto_test,kernel_fun=exponential_kernel_B,layer=3,backend=backend,shots=1000)\n",
    "    gram_kernel_set += [gram_matrix]\n",
    "    gram_kernel_test_set += [gram_test_matrix]\n",
    "    \n",
    "\n",
    "    gram_zz_matrix = get_gram(data=data_sto,kernel_fun=zz_kernel,layer=2,backend=backend,shots=1000)\n",
    "    gram_zz_test_matrix = get_gram_test(data=data_sto,test_data = data_sto_test,kernel_fun=zz_kernel,layer=2,backend=backend,shots=1000)\n",
    "    gram_zz_kernel_set += [gram_zz_matrix]\n",
    "    gram_zz_kernel_test_set += [gram_zz_test_matrix]\n",
    "    \n",
    "    datasets_y_sto += [np.array(data_sto_y)]\n",
    "    datasets_test_y_sto += [np.array(data_sto_test_y)]"
   ]
  },
  {
   "cell_type": "code",
   "execution_count": 21,
   "id": "96616c28",
   "metadata": {},
   "outputs": [],
   "source": [
    "save_folder = \"svm_data2\"\n",
    "for i in range(5):\n",
    "   pd.DataFrame(gram_gaussian_set[i]).to_csv(save_folder+\"/gram_gaussian_\"+str(i)+\".csv\")\n",
    "   pd.DataFrame(gram_gaussian_test_set[i]).to_csv(save_folder+\"/gram_gaussian_test\"+str(i)+\".csv\")\n",
    "   pd.DataFrame(gram_kernel_set[i]).to_csv(save_folder+\"/gram_kernel\"+str(i)+\".csv\")\n",
    "   pd.DataFrame(gram_kernel_test_set[i]).to_csv(save_folder+\"/gram_kernel_test\"+str(i)+\".csv\")\n",
    "   pd.DataFrame(gram_zz_kernel_set[i]).to_csv(save_folder+\"/gram_zz_kernel\"+str(i)+\".csv\")\n",
    "   pd.DataFrame(gram_zz_kernel_test_set[i]).to_csv(save_folder+\"/gram_zz_kernel_test\"+str(i)+\".csv\")\n",
    "   \n",
    "   pd.DataFrame(datasets_X_S[i]).to_csv(save_folder+\"/datasets_X_S\"+str(i)+\".csv\")\n",
    "   pd.DataFrame(datasets_y[i]).to_csv(save_folder+\"/datasets_y\"+str(i)+\".csv\")\n",
    "   pd.DataFrame(sto_index_sets[i]).to_csv(save_folder+\"/sto_index_sets\"+str(i)+\".csv\")\n",
    "   pd.DataFrame(sto_index_test_sets[i]).to_csv(save_folder+\"/sto_index_test_sets\"+str(i)+\".csv\")"
   ]
  }
 ],
 "metadata": {
  "kernelspec": {
   "display_name": "Python 3.9.13 ('base')",
   "language": "python",
   "name": "python3"
  },
  "language_info": {
   "codemirror_mode": {
    "name": "ipython",
    "version": 3
   },
   "file_extension": ".py",
   "mimetype": "text/x-python",
   "name": "python",
   "nbconvert_exporter": "python",
   "pygments_lexer": "ipython3",
   "version": "3.9.13"
  },
  "vscode": {
   "interpreter": {
    "hash": "84fb82bab20c569585c4af9397c7309d3c8bcf8e92190772bb316fae4802aa46"
   }
  }
 },
 "nbformat": 4,
 "nbformat_minor": 5
}
