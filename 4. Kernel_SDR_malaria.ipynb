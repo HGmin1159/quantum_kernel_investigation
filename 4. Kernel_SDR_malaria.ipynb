{
 "cells": [
  {
   "cell_type": "code",
   "execution_count": 1,
   "id": "b26f9675",
   "metadata": {},
   "outputs": [],
   "source": [
    "import numpy as np\n",
    "import pandas as pd\n",
    "import matplotlib.pyplot as plt\n",
    "\n",
    "%matplotlib inline\n",
    "import numpy as np\n",
    "import pandas as pd\n",
    "import matplotlib.pyplot as plt\n",
    "from Quantum_Kernel import *\n",
    "\n",
    "%matplotlib inline\n",
    "# Importing standard Qiskit libraries and configuring account\n",
    "from qiskit import QuantumCircuit , transpile, Aer ,IBMQ\n",
    "from qiskit.visualization import *\n",
    "from qiskit.tools.jupyter import *\n",
    "from qiskit.providers.ibmq import least_busy\n",
    "from qiskit.providers.aer import QasmSimulator\n",
    "\n",
    "from qiskit import Aer, QuantumCircuit\n",
    "from qiskit.opflow import Z, I, StateFn\n",
    "from qiskit.utils import QuantumInstance\n",
    "from qiskit.circuit import Parameter\n",
    "from qiskit.circuit.library import RealAmplitudes, ZZFeatureMap\n",
    "from qiskit.algorithms.optimizers import *\n",
    "\n",
    "from qiskit.opflow import StateFn, PauliSumOp, AerPauliExpectation, ListOp, Gradient\n",
    "from qiskit_machine_learning.neural_networks import OpflowQNN\n",
    "import qiskit.quantum_info as qi\n",
    "from scipy import optimize\n",
    "from qiskit.opflow.gradients import Gradient\n",
    "from typing import Union\n",
    "\n",
    "from IPython.display import clear_output\n",
    "from scipy.optimize import approx_fprime\n",
    "\n",
    "\n",
    "# Loading your IBM Quantum account(s)\n",
    "provider = IBMQ.load_account()"
   ]
  },
  {
   "cell_type": "code",
   "execution_count": 5,
   "id": "9197c323",
   "metadata": {},
   "outputs": [],
   "source": [
    "mat = pd.read_csv(\"malaria\\Mat_train.csv\")"
   ]
  },
  {
   "cell_type": "code",
   "execution_count": 6,
   "id": "0bea5c4e",
   "metadata": {},
   "outputs": [],
   "source": [
    "mat_x = mat.iloc[:,1:]\n",
    "mat_y = mat.iloc[:,0:1]"
   ]
  },
  {
   "cell_type": "code",
   "execution_count": 7,
   "id": "44c5d463",
   "metadata": {},
   "outputs": [],
   "source": [
    "mat_xs = np.pi*(mat_x-np.min(mat_x))/(np.max(mat_x)-np.min(mat_x))\n",
    "mat_ys = np.pi*(mat_y-np.min(mat_y))/(np.max(mat_y)-np.min(mat_y))"
   ]
  },
  {
   "cell_type": "code",
   "execution_count": 8,
   "id": "f358fa49",
   "metadata": {},
   "outputs": [
    {
     "data": {
      "text/html": [
       "<div>\n",
       "<style scoped>\n",
       "    .dataframe tbody tr th:only-of-type {\n",
       "        vertical-align: middle;\n",
       "    }\n",
       "\n",
       "    .dataframe tbody tr th {\n",
       "        vertical-align: top;\n",
       "    }\n",
       "\n",
       "    .dataframe thead th {\n",
       "        text-align: right;\n",
       "    }\n",
       "</style>\n",
       "<table border=\"1\" class=\"dataframe\">\n",
       "  <thead>\n",
       "    <tr style=\"text-align: right;\">\n",
       "      <th></th>\n",
       "      <th>vegetation</th>\n",
       "      <th>water</th>\n",
       "      <th>rain</th>\n",
       "      <th>x1</th>\n",
       "      <th>x2</th>\n",
       "      <th>x3</th>\n",
       "      <th>x4</th>\n",
       "      <th>x5</th>\n",
       "      <th>x6</th>\n",
       "      <th>x7</th>\n",
       "      <th>...</th>\n",
       "      <th>x230</th>\n",
       "      <th>x231</th>\n",
       "      <th>x232</th>\n",
       "      <th>x233</th>\n",
       "      <th>x234</th>\n",
       "      <th>x235</th>\n",
       "      <th>x236</th>\n",
       "      <th>x237</th>\n",
       "      <th>x238</th>\n",
       "      <th>x239</th>\n",
       "    </tr>\n",
       "  </thead>\n",
       "  <tbody>\n",
       "    <tr>\n",
       "      <th>0</th>\n",
       "      <td>-0.630022</td>\n",
       "      <td>-0.408734</td>\n",
       "      <td>-1.181258</td>\n",
       "      <td>518.288114</td>\n",
       "      <td>516.131378</td>\n",
       "      <td>526.663793</td>\n",
       "      <td>389.888883</td>\n",
       "      <td>387.814227</td>\n",
       "      <td>397.949275</td>\n",
       "      <td>358.735868</td>\n",
       "      <td>...</td>\n",
       "      <td>643.968071</td>\n",
       "      <td>602.771985</td>\n",
       "      <td>574.781793</td>\n",
       "      <td>559.763559</td>\n",
       "      <td>557.584530</td>\n",
       "      <td>1505.303432</td>\n",
       "      <td>1358.585269</td>\n",
       "      <td>1227.914103</td>\n",
       "      <td>1112.904084</td>\n",
       "      <td>857.928251</td>\n",
       "    </tr>\n",
       "    <tr>\n",
       "      <th>1</th>\n",
       "      <td>-0.720276</td>\n",
       "      <td>-0.804297</td>\n",
       "      <td>0.396576</td>\n",
       "      <td>721.605987</td>\n",
       "      <td>767.077595</td>\n",
       "      <td>826.361951</td>\n",
       "      <td>570.774960</td>\n",
       "      <td>614.916849</td>\n",
       "      <td>672.588022</td>\n",
       "      <td>388.003650</td>\n",
       "      <td>...</td>\n",
       "      <td>421.803781</td>\n",
       "      <td>426.979751</td>\n",
       "      <td>444.561851</td>\n",
       "      <td>474.749176</td>\n",
       "      <td>517.857387</td>\n",
       "      <td>887.460400</td>\n",
       "      <td>798.548165</td>\n",
       "      <td>724.121922</td>\n",
       "      <td>663.758137</td>\n",
       "      <td>563.375079</td>\n",
       "    </tr>\n",
       "    <tr>\n",
       "      <th>2</th>\n",
       "      <td>-0.201062</td>\n",
       "      <td>2.803119</td>\n",
       "      <td>0.834390</td>\n",
       "      <td>1291.058632</td>\n",
       "      <td>1390.487211</td>\n",
       "      <td>1505.288112</td>\n",
       "      <td>1095.611910</td>\n",
       "      <td>1193.133977</td>\n",
       "      <td>1305.902450</td>\n",
       "      <td>721.467504</td>\n",
       "      <td>...</td>\n",
       "      <td>293.900222</td>\n",
       "      <td>340.677648</td>\n",
       "      <td>400.595716</td>\n",
       "      <td>474.287016</td>\n",
       "      <td>562.366285</td>\n",
       "      <td>398.728387</td>\n",
       "      <td>361.613465</td>\n",
       "      <td>336.946841</td>\n",
       "      <td>324.391011</td>\n",
       "      <td>358.409944</td>\n",
       "    </tr>\n",
       "    <tr>\n",
       "      <th>3</th>\n",
       "      <td>0.159907</td>\n",
       "      <td>0.470622</td>\n",
       "      <td>0.331857</td>\n",
       "      <td>2709.487059</td>\n",
       "      <td>2727.472131</td>\n",
       "      <td>2761.040264</td>\n",
       "      <td>2376.020316</td>\n",
       "      <td>2393.739566</td>\n",
       "      <td>2426.816374</td>\n",
       "      <td>2104.587896</td>\n",
       "      <td>...</td>\n",
       "      <td>13.337771</td>\n",
       "      <td>2.355428</td>\n",
       "      <td>-0.170820</td>\n",
       "      <td>-0.060039</td>\n",
       "      <td>4.746701</td>\n",
       "      <td>463.470392</td>\n",
       "      <td>354.919143</td>\n",
       "      <td>262.373866</td>\n",
       "      <td>185.307685</td>\n",
       "      <td>40.295648</td>\n",
       "    </tr>\n",
       "    <tr>\n",
       "      <th>4</th>\n",
       "      <td>1.405908</td>\n",
       "      <td>-0.738166</td>\n",
       "      <td>1.106541</td>\n",
       "      <td>1386.738654</td>\n",
       "      <td>1427.936322</td>\n",
       "      <td>1483.758201</td>\n",
       "      <td>1161.688087</td>\n",
       "      <td>1202.019697</td>\n",
       "      <td>1256.708933</td>\n",
       "      <td>923.428683</td>\n",
       "      <td>...</td>\n",
       "      <td>111.423191</td>\n",
       "      <td>110.021816</td>\n",
       "      <td>118.784956</td>\n",
       "      <td>138.066308</td>\n",
       "      <td>168.527576</td>\n",
       "      <td>524.574727</td>\n",
       "      <td>435.005529</td>\n",
       "      <td>359.937094</td>\n",
       "      <td>298.722329</td>\n",
       "      <td>191.336800</td>\n",
       "    </tr>\n",
       "    <tr>\n",
       "      <th>...</th>\n",
       "      <td>...</td>\n",
       "      <td>...</td>\n",
       "      <td>...</td>\n",
       "      <td>...</td>\n",
       "      <td>...</td>\n",
       "      <td>...</td>\n",
       "      <td>...</td>\n",
       "      <td>...</td>\n",
       "      <td>...</td>\n",
       "      <td>...</td>\n",
       "      <td>...</td>\n",
       "      <td>...</td>\n",
       "      <td>...</td>\n",
       "      <td>...</td>\n",
       "      <td>...</td>\n",
       "      <td>...</td>\n",
       "      <td>...</td>\n",
       "      <td>...</td>\n",
       "      <td>...</td>\n",
       "      <td>...</td>\n",
       "      <td>...</td>\n",
       "    </tr>\n",
       "    <tr>\n",
       "      <th>3495</th>\n",
       "      <td>-1.667931</td>\n",
       "      <td>0.307437</td>\n",
       "      <td>-1.977657</td>\n",
       "      <td>49.789170</td>\n",
       "      <td>60.189900</td>\n",
       "      <td>80.418326</td>\n",
       "      <td>20.409368</td>\n",
       "      <td>29.398388</td>\n",
       "      <td>47.572834</td>\n",
       "      <td>21.965937</td>\n",
       "      <td>...</td>\n",
       "      <td>1711.810551</td>\n",
       "      <td>1684.650540</td>\n",
       "      <td>1672.231760</td>\n",
       "      <td>1674.515756</td>\n",
       "      <td>1691.509634</td>\n",
       "      <td>2613.165991</td>\n",
       "      <td>2476.682988</td>\n",
       "      <td>2356.343459</td>\n",
       "      <td>2251.915438</td>\n",
       "      <td>2032.041201</td>\n",
       "    </tr>\n",
       "    <tr>\n",
       "      <th>3496</th>\n",
       "      <td>-0.331652</td>\n",
       "      <td>-0.587832</td>\n",
       "      <td>-0.720589</td>\n",
       "      <td>253.174445</td>\n",
       "      <td>238.368831</td>\n",
       "      <td>235.008625</td>\n",
       "      <td>172.004510</td>\n",
       "      <td>158.051710</td>\n",
       "      <td>154.893332</td>\n",
       "      <td>214.531676</td>\n",
       "      <td>...</td>\n",
       "      <td>1138.472215</td>\n",
       "      <td>1078.403904</td>\n",
       "      <td>1032.597254</td>\n",
       "      <td>1000.837735</td>\n",
       "      <td>982.967875</td>\n",
       "      <td>2209.151602</td>\n",
       "      <td>2038.430094</td>\n",
       "      <td>1884.254564</td>\n",
       "      <td>1746.309413</td>\n",
       "      <td>1426.716895</td>\n",
       "    </tr>\n",
       "    <tr>\n",
       "      <th>3497</th>\n",
       "      <td>-0.412277</td>\n",
       "      <td>-0.454341</td>\n",
       "      <td>-0.418252</td>\n",
       "      <td>216.185622</td>\n",
       "      <td>202.980242</td>\n",
       "      <td>200.948823</td>\n",
       "      <td>142.465927</td>\n",
       "      <td>130.096997</td>\n",
       "      <td>128.199704</td>\n",
       "      <td>185.638124</td>\n",
       "      <td>...</td>\n",
       "      <td>1213.408476</td>\n",
       "      <td>1154.439336</td>\n",
       "      <td>1109.813588</td>\n",
       "      <td>1079.335050</td>\n",
       "      <td>1062.862652</td>\n",
       "      <td>2285.624036</td>\n",
       "      <td>2115.908406</td>\n",
       "      <td>1962.726095</td>\n",
       "      <td>1825.770357</td>\n",
       "      <td>1509.237715</td>\n",
       "    </tr>\n",
       "    <tr>\n",
       "      <th>3498</th>\n",
       "      <td>-1.054157</td>\n",
       "      <td>4.376763</td>\n",
       "      <td>-1.063629</td>\n",
       "      <td>492.132543</td>\n",
       "      <td>585.629402</td>\n",
       "      <td>694.312944</td>\n",
       "      <td>405.744502</td>\n",
       "      <td>497.030522</td>\n",
       "      <td>603.563898</td>\n",
       "      <td>154.449276</td>\n",
       "      <td>...</td>\n",
       "      <td>1132.583230</td>\n",
       "      <td>1193.576669</td>\n",
       "      <td>1269.163138</td>\n",
       "      <td>1359.630695</td>\n",
       "      <td>1465.291839</td>\n",
       "      <td>1315.481483</td>\n",
       "      <td>1277.507022</td>\n",
       "      <td>1253.856682</td>\n",
       "      <td>1244.434655</td>\n",
       "      <td>1301.441578</td>\n",
       "    </tr>\n",
       "    <tr>\n",
       "      <th>3499</th>\n",
       "      <td>0.431575</td>\n",
       "      <td>-0.343466</td>\n",
       "      <td>0.887600</td>\n",
       "      <td>1505.077054</td>\n",
       "      <td>1544.688360</td>\n",
       "      <td>1599.032631</td>\n",
       "      <td>1268.691850</td>\n",
       "      <td>1307.504827</td>\n",
       "      <td>1360.787986</td>\n",
       "      <td>1024.552181</td>\n",
       "      <td>...</td>\n",
       "      <td>84.848212</td>\n",
       "      <td>82.189497</td>\n",
       "      <td>89.226577</td>\n",
       "      <td>106.331666</td>\n",
       "      <td>134.259554</td>\n",
       "      <td>494.838921</td>\n",
       "      <td>404.360251</td>\n",
       "      <td>328.485219</td>\n",
       "      <td>266.545071</td>\n",
       "      <td>156.933585</td>\n",
       "    </tr>\n",
       "  </tbody>\n",
       "</table>\n",
       "<p>3500 rows × 242 columns</p>\n",
       "</div>"
      ],
      "text/plain": [
       "      vegetation     water      rain           x1           x2           x3  \\\n",
       "0      -0.630022 -0.408734 -1.181258   518.288114   516.131378   526.663793   \n",
       "1      -0.720276 -0.804297  0.396576   721.605987   767.077595   826.361951   \n",
       "2      -0.201062  2.803119  0.834390  1291.058632  1390.487211  1505.288112   \n",
       "3       0.159907  0.470622  0.331857  2709.487059  2727.472131  2761.040264   \n",
       "4       1.405908 -0.738166  1.106541  1386.738654  1427.936322  1483.758201   \n",
       "...          ...       ...       ...          ...          ...          ...   \n",
       "3495   -1.667931  0.307437 -1.977657    49.789170    60.189900    80.418326   \n",
       "3496   -0.331652 -0.587832 -0.720589   253.174445   238.368831   235.008625   \n",
       "3497   -0.412277 -0.454341 -0.418252   216.185622   202.980242   200.948823   \n",
       "3498   -1.054157  4.376763 -1.063629   492.132543   585.629402   694.312944   \n",
       "3499    0.431575 -0.343466  0.887600  1505.077054  1544.688360  1599.032631   \n",
       "\n",
       "               x4           x5           x6           x7  ...         x230  \\\n",
       "0      389.888883   387.814227   397.949275   358.735868  ...   643.968071   \n",
       "1      570.774960   614.916849   672.588022   388.003650  ...   421.803781   \n",
       "2     1095.611910  1193.133977  1305.902450   721.467504  ...   293.900222   \n",
       "3     2376.020316  2393.739566  2426.816374  2104.587896  ...    13.337771   \n",
       "4     1161.688087  1202.019697  1256.708933   923.428683  ...   111.423191   \n",
       "...           ...          ...          ...          ...  ...          ...   \n",
       "3495    20.409368    29.398388    47.572834    21.965937  ...  1711.810551   \n",
       "3496   172.004510   158.051710   154.893332   214.531676  ...  1138.472215   \n",
       "3497   142.465927   130.096997   128.199704   185.638124  ...  1213.408476   \n",
       "3498   405.744502   497.030522   603.563898   154.449276  ...  1132.583230   \n",
       "3499  1268.691850  1307.504827  1360.787986  1024.552181  ...    84.848212   \n",
       "\n",
       "             x231         x232         x233         x234         x235  \\\n",
       "0      602.771985   574.781793   559.763559   557.584530  1505.303432   \n",
       "1      426.979751   444.561851   474.749176   517.857387   887.460400   \n",
       "2      340.677648   400.595716   474.287016   562.366285   398.728387   \n",
       "3        2.355428    -0.170820    -0.060039     4.746701   463.470392   \n",
       "4      110.021816   118.784956   138.066308   168.527576   524.574727   \n",
       "...           ...          ...          ...          ...          ...   \n",
       "3495  1684.650540  1672.231760  1674.515756  1691.509634  2613.165991   \n",
       "3496  1078.403904  1032.597254  1000.837735   982.967875  2209.151602   \n",
       "3497  1154.439336  1109.813588  1079.335050  1062.862652  2285.624036   \n",
       "3498  1193.576669  1269.163138  1359.630695  1465.291839  1315.481483   \n",
       "3499    82.189497    89.226577   106.331666   134.259554   494.838921   \n",
       "\n",
       "             x236         x237         x238         x239  \n",
       "0     1358.585269  1227.914103  1112.904084   857.928251  \n",
       "1      798.548165   724.121922   663.758137   563.375079  \n",
       "2      361.613465   336.946841   324.391011   358.409944  \n",
       "3      354.919143   262.373866   185.307685    40.295648  \n",
       "4      435.005529   359.937094   298.722329   191.336800  \n",
       "...           ...          ...          ...          ...  \n",
       "3495  2476.682988  2356.343459  2251.915438  2032.041201  \n",
       "3496  2038.430094  1884.254564  1746.309413  1426.716895  \n",
       "3497  2115.908406  1962.726095  1825.770357  1509.237715  \n",
       "3498  1277.507022  1253.856682  1244.434655  1301.441578  \n",
       "3499   404.360251   328.485219   266.545071   156.933585  \n",
       "\n",
       "[3500 rows x 242 columns]"
      ]
     },
     "execution_count": 8,
     "metadata": {},
     "output_type": "execute_result"
    }
   ],
   "source": [
    "mat_x"
   ]
  },
  {
   "cell_type": "code",
   "execution_count": 9,
   "id": "9493ba82",
   "metadata": {},
   "outputs": [],
   "source": [
    "sample = 30\n",
    "\n",
    "sto_ind = np.random.randint(0,len(mat_xs),sample)"
   ]
  },
  {
   "cell_type": "code",
   "execution_count": 10,
   "id": "39d7422c",
   "metadata": {},
   "outputs": [
    {
     "data": {
      "text/plain": [
       "array([ 294, 2252, 1212, 2911, 2872, 2791,  848, 3447,  168, 3247, 3160,\n",
       "        709, 3021,  714, 2461, 2325, 1488, 2268, 2136, 2892,  902, 1730,\n",
       "        413, 2112, 2721,   64, 2137, 1101, 2117,  449])"
      ]
     },
     "execution_count": 10,
     "metadata": {},
     "output_type": "execute_result"
    }
   ],
   "source": [
    "sto_ind"
   ]
  },
  {
   "cell_type": "code",
   "execution_count": 18,
   "id": "0b095296",
   "metadata": {},
   "outputs": [],
   "source": [
    "sto_ind = np.array([1850,  609, 1026, 1222, 1018, 1559, 1852, 2809, 2887, 3444, 2783,\n",
    "       2222, 1796, 2027,  498, 1846, 1561, 1096,  310, 1524, 1386, 1343,\n",
    "       1318, 2824,   44, 3380, 1009, 1111,  595,  805])"
   ]
  },
  {
   "cell_type": "code",
   "execution_count": 19,
   "id": "a16d03b9",
   "metadata": {},
   "outputs": [],
   "source": [
    "data_sto = mat_xs.iloc[sto_ind,:]\n",
    "data_sto_y = mat_ys.iloc[sto_ind]\n",
    "n = len(data_sto)"
   ]
  },
  {
   "cell_type": "code",
   "execution_count": 38,
   "id": "c0c969a0",
   "metadata": {},
   "outputs": [
    {
     "name": "stdout",
     "output_type": "stream",
     "text": [
      "--- 0.013834238052368164 seconds ---\n"
     ]
    },
    {
     "name": "stderr",
     "output_type": "stream",
     "text": [
      "<ipython-input-37-d38519f7cba9>:33: FutureWarning: Calling a ufunc on non-aligned DataFrames (or DataFrame/Series combination). Currently, the indices are ignored and the result takes the index/columns of the first DataFrame. In the future , the DataFrames/Series will be aligned before applying the ufunc.\n",
      "Convert one of the arguments to a NumPy array (eg 'ufunc(df1, np.asarray(df2)') to keep the current behaviour, or align manually (eg 'df1, df2 = df1.align(df2)') before passing to the ufunc to obtain the future behaviour and silence this warning.\n",
      "  U = np.matmul(data,data.T)\n"
     ]
    }
   ],
   "source": [
    "start_time = time.time()\n",
    "gram_matrix_gaussian = Gram_gaussian(data_sto,3)\n",
    "print(\"--- %s seconds ---\" % (time.time() - start_time))"
   ]
  },
  {
   "cell_type": "code",
   "execution_count": 39,
   "id": "e7eff74f",
   "metadata": {},
   "outputs": [],
   "source": [
    "pd.DataFrame(gram_matrix1).to_csv(\"gram_malaria_gaussian.csv\")"
   ]
  },
  {
   "cell_type": "code",
   "execution_count": 145,
   "id": "c9dc8143",
   "metadata": {},
   "outputs": [
    {
     "data": {
      "text/plain": [
       "<matplotlib.collections.PathCollection at 0x2009fa1ffa0>"
      ]
     },
     "execution_count": 145,
     "metadata": {},
     "output_type": "execute_result"
    },
    {
     "data": {
      "image/png": "[encoded data removed]",
      "text/plain": [
       "<Figure size 1080x432 with 2 Axes>"
      ]
     },
     "metadata": {
      "needs_background": "light"
     },
     "output_type": "display_data"
    }
   ],
   "source": [
    "plt.figure(figsize=(15,6))\n",
    "ax1 = plt.subplot(131)\n",
    "ax2 = plt.subplot(132)\n",
    "comp = 0.1\n",
    "\n",
    "\n",
    "red = (data_sto_y<0.7).values.tolist()\n",
    "blue = (data_sto_y>0.7).values.tolist() \n",
    "\n",
    "kpca_result = KPCA(gram_matrix_gaussian,comp)\n",
    "kpca_result = pd.DataFrame(kpca_result[0])\n",
    "ax1.scatter(kpca_result.iloc[red, 0], kpca_result.iloc[red , 1], c=\"red\",s=20, edgecolor='k')\n",
    "ax1.scatter(kpca_result.iloc[blue, 0], kpca_result.iloc[blue, 1], c=\"blue\",s=20, edgecolor='k')\n",
    "\n",
    "J = np.outer(np.ones(shape=(n,1)),np.ones(shape=(n,1)))\n",
    "Q = np.identity(n)-J/n\n",
    "gram_xh = np.matmul(Q,gram_matrix_gaussian,Q)\n",
    "gram_y = Gram_gaussian(data_sto_y.values,10)\n",
    "sir_result = GSIR(gram_y,gram_xh,comp)\n",
    "sir_result = pd.DataFrame(sir_result[0])\n",
    "ax2.scatter(sir_result.iloc[red , 0], sir_result.iloc[red , 1], c=\"red\",s=20, edgecolor='k')\n",
    "ax2.scatter(sir_result.iloc[blue, 0], sir_result.iloc[blue, 1], c=\"blue\",s=20, edgecolor='k')\n"
   ]
  },
  {
   "cell_type": "code",
   "execution_count": 41,
   "id": "c6c22268",
   "metadata": {},
   "outputs": [
    {
     "data": {
      "application/vnd.jupyter.widget-view+json": {
       "model_id": "d4c893f0d45648189586e01825cd375d",
       "version_major": 2,
       "version_minor": 0
      },
      "text/plain": [
       "  0%|          | 0/100 [00:00<?, ?it/s]"
      ]
     },
     "metadata": {},
     "output_type": "display_data"
    },
    {
     "name": "stdout",
     "output_type": "stream",
     "text": [
      "--- 32945.38693380356 seconds ---\n"
     ]
    }
   ],
   "source": [
    "start_time = time.time()\n",
    "gram_matrix_G = get_gram_multi(data_sto,kernel_G,shots=100)\n",
    "print(\"--- %s seconds ---\" % (time.time() - start_time))"
   ]
  },
  {
   "cell_type": "code",
   "execution_count": 42,
   "id": "fa3b6bd7",
   "metadata": {},
   "outputs": [],
   "source": [
    "pd.DataFrame(gram_matrix_G).to_csv(\"gram_malaria_G.csv\")"
   ]
  },
  {
   "cell_type": "code",
   "execution_count": 101,
   "id": "43bd4147",
   "metadata": {},
   "outputs": [
    {
     "data": {
      "text/plain": [
       "<matplotlib.collections.PathCollection at 0x2009c71d910>"
      ]
     },
     "execution_count": 101,
     "metadata": {},
     "output_type": "execute_result"
    },
    {
     "data": {
      "image/png": "[encoded data removed]",
      "text/plain": [
       "<Figure size 1080x432 with 3 Axes>"
      ]
     },
     "metadata": {
      "needs_background": "light"
     },
     "output_type": "display_data"
    }
   ],
   "source": [
    "plt.figure(figsize=(15,6))\n",
    "ax1 = plt.subplot(131)\n",
    "ax2 = plt.subplot(132)\n",
    "ax3 = plt.subplot(133)\n",
    "\n",
    "\n",
    "red = (data_sto_y<0.7).values.tolist()\n",
    "blue = (data_sto_y>0.7).values.tolist() \n",
    "\n",
    "kpca_result = KPCA(gram_matrix_G,comp)\n",
    "kpca_result = pd.DataFrame(kpca_result[0])\n",
    "ax1.scatter(kpca_result.iloc[red, 0], kpca_result.iloc[red , 1], c=\"red\",s=20, edgecolor='k')\n",
    "ax1.scatter(kpca_result.iloc[blue, 0], kpca_result.iloc[blue, 1], c=\"blue\",s=20, edgecolor='k')\n",
    "\n",
    "J = np.outer(np.ones(shape=(n,1)),np.ones(shape=(n,1)))\n",
    "Q = np.identity(n)-J/n\n",
    "gram_xh = np.matmul(Q,gram_matrix_G,Q)\n",
    "gram_y = Gram_gaussian(data_sto_y.values,10)\n",
    "sir_result = GSIR(gram_y,gram_xh,comp)\n",
    "sir_result = pd.DataFrame(sir_result[0])\n",
    "ax2.scatter(sir_result.iloc[red , 0], sir_result.iloc[red , 1], c=\"red\",s=20, edgecolor='k')\n",
    "ax2.scatter(sir_result.iloc[blue, 0], sir_result.iloc[blue, 1], c=\"blue\",s=20, edgecolor='k')\n",
    "\n",
    "gram_xl = np.concatenate([np.ones((1,n)),gram_matrix_G])\n",
    "gram_y = Gram_discrete(data_sto_y.values,version=\"L\")\n",
    "sir_result = GSAVE(gram_y,gram_xl)\n",
    "sir_result = pd.DataFrame(sir_result[0])\n",
    "ax3.scatter(sir_result.iloc[red , 0], sir_result.iloc[red , 1], c=\"red\",s=20, edgecolor='k')\n",
    "ax3.scatter(sir_result.iloc[blue, 0], sir_result.iloc[blue, 1], c=\"blue\",s=20, edgecolor='k')\n"
   ]
  },
  {
   "cell_type": "code",
   "execution_count": 64,
   "id": "4aab144f",
   "metadata": {},
   "outputs": [
    {
     "data": {
      "application/vnd.jupyter.widget-view+json": {
       "model_id": "379940a1d1714b6d9354513bea166ab9",
       "version_major": 2,
       "version_minor": 0
      },
      "text/plain": [
       "  0%|          | 0/100 [00:00<?, ?it/s]"
      ]
     },
     "metadata": {},
     "output_type": "display_data"
    },
    {
     "name": "stdout",
     "output_type": "stream",
     "text": [
      "--- 35815.76322841644 seconds ---\n"
     ]
    }
   ],
   "source": [
    "start_time = time.time()\n",
    "gram_matrix_H = get_gram_multi(data_sto,kernel_H,shots=100)\n",
    "print(\"--- %s seconds ---\" % (time.time() - start_time))"
   ]
  },
  {
   "cell_type": "code",
   "execution_count": 65,
   "id": "015c2712",
   "metadata": {},
   "outputs": [],
   "source": [
    "pd.DataFrame(gram_matrix_H).to_csv(\"gram_malaria_H.csv\")"
   ]
  },
  {
   "cell_type": "code",
   "execution_count": 102,
   "id": "ddf234b0",
   "metadata": {},
   "outputs": [
    {
     "data": {
      "text/plain": [
       "<matplotlib.collections.PathCollection at 0x2009d6850d0>"
      ]
     },
     "execution_count": 102,
     "metadata": {},
     "output_type": "execute_result"
    },
    {
     "data": {
      "image/png": "[encoded data removed]",
      "text/plain": [
       "<Figure size 1080x432 with 3 Axes>"
      ]
     },
     "metadata": {
      "needs_background": "light"
     },
     "output_type": "display_data"
    }
   ],
   "source": [
    "plt.figure(figsize=(15,6))\n",
    "ax1 = plt.subplot(131)\n",
    "ax2 = plt.subplot(132)                                                                                                                                                                                                                                                                                                                                                                                                                                                                                                                                                                                                                                                                                                                                                                                                                                                                                                                                                                                                                                                                                                                                                                              \n",
    "ax3 = plt.subplot(133)\n",
    "\n",
    "\n",
    "red = (data_sto_y<0.7).values.tolist()\n",
    "blue = (data_sto_y>0.7).values.tolist() \n",
    "\n",
    "kpca_result = KPCA(gram_matrix_H,comp)\n",
    "kpca_result = pd.DataFrame(kpca_result[0])\n",
    "ax1.scatter(kpca_result.iloc[red, 0], kpca_result.iloc[red , 1], c=\"red\",s=20, edgecolor='k')\n",
    "ax1.scatter(kpca_result.iloc[blue, 0], kpca_result.iloc[blue, 1], c=\"blue\",s=20, edgecolor='k')\n",
    "\n",
    "J = np.outer(np.ones(shape=(n,1)),np.ones(shape=(n,1)))\n",
    "Q = np.identity(n)-J/n\n",
    "gram_xh = np.matmul(Q,gram_matrix_H,Q)\n",
    "gram_y = Gram_gaussian(data_sto_y.values,10)\n",
    "sir_result = GSIR(gram_y,gram_xh,comp)\n",
    "sir_result = pd.DataFrame(sir_result[0])\n",
    "ax2.scatter(sir_result.iloc[red , 0], sir_result.iloc[red , 1], c=\"red\",s=20, edgecolor='k')\n",
    "ax2.scatter(sir_result.iloc[blue, 0], sir_result.iloc[blue, 1], c=\"blue\",s=20, edgecolor='k')\n"
   ]
  },
  {
   "cell_type": "code",
   "execution_count": 15,
   "id": "0da24526",
   "metadata": {},
   "outputs": [],
   "source": [
    "sto_test_ind = np.random.randint(0,len(mat_xs),20)\n",
    "sto_test_ind = np.array([3313, 2991,  221, 2411, 2553,  945, 2282, 1189, 1853, 3096, 1193,\n",
    "       2794,  687, 2074, 1142,  862, 3173, 2597, 1426,  212])\n",
    "data_sto_test =  mat_xs.iloc[sto_test_ind,:]\n",
    "data_y_test = mat_ys.iloc[sto_test_ind]\n",
    "n = len(data_sto_test)"
   ]
  },
  {
   "cell_type": "code",
   "execution_count": 73,
   "id": "a6406061",
   "metadata": {},
   "outputs": [
    {
     "data": {
      "application/vnd.jupyter.widget-view+json": {
       "model_id": "0fe959e32a3a407ba97a892db672c115",
       "version_major": 2,
       "version_minor": 0
      },
      "text/plain": [
       "  0%|          | 0/100 [00:00<?, ?it/s]"
      ]
     },
     "metadata": {},
     "output_type": "display_data"
    },
    {
     "data": {
      "application/vnd.jupyter.widget-view+json": {
       "model_id": "d8aae68b65bf42e18b10ad2ca637c521",
       "version_major": 2,
       "version_minor": 0
      },
      "text/plain": [
       "  0%|          | 0/100 [00:00<?, ?it/s]"
      ]
     },
     "metadata": {},
     "output_type": "display_data"
    }
   ],
   "source": [
    "gram_test_G = get_gram_multi_test(data_sto,data_sto_test,kernel_G,100)\n",
    "gram_test_H = get_gram_multi_test(data_sto,data_sto_test,kernel_H,100)"
   ]
  },
  {
   "cell_type": "code",
   "execution_count": 74,
   "id": "931ca6aa",
   "metadata": {},
   "outputs": [],
   "source": [
    "pd.DataFrame(gram_test_G).to_csv(\"gram_malaria_test_G.csv\")\n",
    "pd.DataFrame(gram_test_H).to_csv(\"gram_malaria_test_H.csv\")"
   ]
  },
  {
   "cell_type": "code",
   "execution_count": 13,
   "id": "bf188834",
   "metadata": {},
   "outputs": [],
   "source": [
    "gram_malaria0 = pd.read_csv(\"gram_malaria_gaussian.csv\").iloc[:,1:]\n",
    "gram_malaria1 = pd.read_csv(\"gram_malaria_G.csv\").iloc[:,1:]\n",
    "gram_malaria2 = pd.read_csv(\"gram_malaria_H.csv\").iloc[:,1:]"
   ]
  },
  {
   "cell_type": "code",
   "execution_count": 20,
   "id": "9f50dd08",
   "metadata": {},
   "outputs": [
    {
     "name": "stderr",
     "output_type": "stream",
     "text": [
      "<ipython-input-20-6abe7e0d0468>:34: MatplotlibDeprecationWarning: Adding an axes using the same arguments as a previous axes currently reuses the earlier instance.  In a future version, a new instance will always be created and returned.  Meanwhile, this warning can be suppressed, and the future behavior ensured, by passing a unique label to each axes instance.\n",
      "  plt.subplot(2,3,1)\n",
      "<ipython-input-20-6abe7e0d0468>:36: MatplotlibDeprecationWarning: Adding an axes using the same arguments as a previous axes currently reuses the earlier instance.  In a future version, a new instance will always be created and returned.  Meanwhile, this warning can be suppressed, and the future behavior ensured, by passing a unique label to each axes instance.\n",
      "  plt.subplot(2,3,4)\n"
     ]
    },
    {
     "data": {
      "text/plain": [
       "Text(0, 0.5, 'GSIR')"
      ]
     },
     "execution_count": 20,
     "metadata": {},
     "output_type": "execute_result"
    },
    {
     "data": {
      "image/png": "[encoded data removed]",
      "text/plain": [
       "<Figure size 1080x432 with 6 Axes>"
      ]
     },
     "metadata": {},
     "output_type": "display_data"
    }
   ],
   "source": [
    "plt.figure(figsize=(15,6))\n",
    "gram_name = [\"Gaussian\",\"Kernel G\",\"Kernel H\"]\n",
    "red = (data_sto_y<0.7).values.tolist()\n",
    "blue = (data_sto_y>0.7).values.tolist() \n",
    "\n",
    "\n",
    "comp = 0.1\n",
    "\n",
    "for i in range(3):\n",
    "    comp = 0.001\n",
    "    G = eval(\"gram_malaria\"+str(i)).values\n",
    "    kpca_result = KPCA(G,comp)\n",
    "    kpca_result = pd.DataFrame(kpca_result[0])\n",
    "    plt.subplot(2,3,i+1)\n",
    "    plt.scatter(kpca_result.iloc[red, 0], kpca_result.iloc[red , 1], c=\"red\",s=20, edgecolor='k')\n",
    "    plt.scatter(kpca_result.iloc[blue, 0], kpca_result.iloc[blue, 1], c=\"blue\",s=20, edgecolor='k')\n",
    "    plt.xticks([], [])\n",
    "    plt.yticks([], [])\n",
    "    \n",
    "    comp = 0.1\n",
    "    J = np.outer(np.ones(shape=(n,1)),np.ones(shape=(n,1)))\n",
    "    Q = np.identity(n)-J/n\n",
    "    gram_xh = np.matmul(Q,G,Q)\n",
    "    gram_y = Gram_gaussian(data_sto_y.values,10)\n",
    "    sir_result = GSIR(gram_y,gram_xh,comp)\n",
    "    sir_result = pd.DataFrame(sir_result[0])\n",
    "    plt.subplot(2,3,i+4)\n",
    "    plt.scatter(sir_result.iloc[red , 0], sir_result.iloc[red , 1], c=\"red\",s=20, edgecolor='k')\n",
    "    plt.scatter(sir_result.iloc[blue, 0], sir_result.iloc[blue, 1], c=\"blue\",s=20, edgecolor='k')\n",
    "    plt.xticks([], [])\n",
    "    plt.yticks([], [])\n",
    "    plt.xlabel(gram_name[i], fontsize=20)\n",
    "    \n",
    "plt.subplot(2,3,1)\n",
    "plt.ylabel(\"KPCA\", fontsize=20)\n",
    "plt.subplot(2,3,4)\n",
    "plt.ylabel(\"GSIR\", fontsize=20)"
   ]
  },
  {
   "cell_type": "code",
   "execution_count": 186,
   "id": "fff4cc76",
   "metadata": {},
   "outputs": [],
   "source": [
    "area = (data_sto_y-np.min(data_sto_y))/(np.max(data_sto_y)-np.min(data_sto_y))\n",
    "area = area.values"
   ]
  },
  {
   "cell_type": "code",
   "execution_count": 23,
   "id": "629490f4",
   "metadata": {},
   "outputs": [
    {
     "name": "stderr",
     "output_type": "stream",
     "text": [
      "<ipython-input-23-2d9b5fcb7766>:30: MatplotlibDeprecationWarning: Adding an axes using the same arguments as a previous axes currently reuses the earlier instance.  In a future version, a new instance will always be created and returned.  Meanwhile, this warning can be suppressed, and the future behavior ensured, by passing a unique label to each axes instance.\n",
      "  plt.subplot(2,3,1)\n",
      "<ipython-input-23-2d9b5fcb7766>:32: MatplotlibDeprecationWarning: Adding an axes using the same arguments as a previous axes currently reuses the earlier instance.  In a future version, a new instance will always be created and returned.  Meanwhile, this warning can be suppressed, and the future behavior ensured, by passing a unique label to each axes instance.\n",
      "  plt.subplot(2,3,4)\n"
     ]
    },
    {
     "data": {
      "text/plain": [
       "Text(0, 0.5, 'GSIR')"
      ]
     },
     "execution_count": 23,
     "metadata": {},
     "output_type": "execute_result"
    },
    {
     "data": {
      "image/png": "[encoded data removed]",
      "text/plain": [
       "<Figure size 1080x864 with 6 Axes>"
      ]
     },
     "metadata": {},
     "output_type": "display_data"
    }
   ],
   "source": [
    "plt.figure(figsize=(15,12))\n",
    "gram_name = [\"Gaussian\",\"Kernel G\",\"Kernel H\"]\n",
    "scale = 200\n",
    "area = ((data_sto_y-np.min(data_sto_y))/(np.max(data_sto_y)-np.min(data_sto_y))).values*scale\n",
    "cmap = \"autumn\"\n",
    "\n",
    "for i in range(3):\n",
    "    comp = 0.001\n",
    "    G = eval(\"gram_malaria\"+str(i)).values\n",
    "    kpca_result = KPCA(G,comp)\n",
    "    kpca_result = pd.DataFrame(kpca_result[0])\n",
    "    plt.subplot(2,3,i+1)\n",
    "    plt.scatter(kpca_result.iloc[:, 0], kpca_result.iloc[: , 1],edgecolor='k',s=area,c=scale-area,cmap= cmap)\n",
    "    plt.xticks([], [])\n",
    "    plt.yticks([], [])\n",
    "    \n",
    "    comp = 0.1\n",
    "    J = np.outer(np.ones(shape=(n,1)),np.ones(shape=(n,1)))\n",
    "    Q = np.identity(n)-J/n\n",
    "    gram_xh = np.matmul(Q,G,Q)\n",
    "    gram_y = Gram_gaussian(data_sto_y.values,10)\n",
    "    sir_result = GSIR(gram_y,gram_xh,comp)\n",
    "    sir_result = pd.DataFrame(sir_result[0])\n",
    "    plt.subplot(2,3,i+4)\n",
    "    plt.scatter(sir_result.iloc[:, 0], sir_result.iloc[:, 1], edgecolor='k',s=area,c=scale-area,cmap= cmap)\n",
    "    plt.xticks([], [])\n",
    "    plt.yticks([], [])\n",
    "    plt.xlabel(gram_name[i], fontsize=20)\n",
    "    \n",
    "plt.subplot(2,3,1)\n",
    "plt.ylabel(\"KPCA\", fontsize=20)\n",
    "plt.subplot(2,3,4)\n",
    "plt.ylabel(\"GSIR\", fontsize=20)"
   ]
  }
 ],
 "metadata": {
  "kernelspec": {
   "display_name": "Python 3",
   "language": "python",
   "name": "python3"
  },
  "language_info": {
   "codemirror_mode": {
    "name": "ipython",
    "version": 3
   },
   "file_extension": ".py",
   "mimetype": "text/x-python",
   "name": "python",
   "nbconvert_exporter": "python",
   "pygments_lexer": "ipython3",
   "version": "3.8.8"
  }
 },
 "nbformat": 4,
 "nbformat_minor": 5
}
