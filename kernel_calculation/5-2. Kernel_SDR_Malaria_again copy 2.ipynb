{
 "cells": [
  {
   "cell_type": "code",
   "execution_count": 2,
   "id": "292e689c-8d79-41f4-a998-ed20918bad23",
   "metadata": {
    "jupyter": {
     "source_hidden": true
    },
    "tags": []
   },
   "outputs": [],
   "source": [
    "import os\n",
    "os.chdir(\"/Users/minhyeong-gyu/Documents/GitHub/quantum_kernel_investigation/\")\n",
    "import numpy as np\n",
    "import pandas as pd\n",
    "import matplotlib.pyplot as plt\n",
    "from Quantum_Kernel import *\n",
    "\n",
    "%matplotlib inline\n",
    "# Importing standard Qiskit libraries and configuring account\n",
    "from qiskit import QuantumCircuit , transpile, Aer ,IBMQ\n",
    "from qiskit.visualization import *\n",
    "from qiskit.tools.jupyter import *\n",
    "from qiskit.providers.aer import QasmSimulator\n",
    "\n",
    "import warnings\n",
    "warnings.filterwarnings(\"ignore\")\n",
    "\n",
    "# Loading your IBM Quantum account(s)\n",
    "IBMQ.load_account()\n",
    "provider = IBMQ.get_provider(hub='ibm-q-kqc', group='internal', project='default')"
   ]
  },
  {
   "cell_type": "code",
   "execution_count": 54,
   "id": "30443a9d",
   "metadata": {},
   "outputs": [],
   "source": [
    "mat = pd.read_table(\"data/yeast.data\",header=None)\n",
    "mat = pd.DataFrame([i.split() for i in mat[0]])\n",
    "mat_x = mat.iloc[:,1:-1]\n",
    "mat_y = mat.iloc[:,-1:]\n",
    "mat_x = mat_x.applymap(float)\n",
    "mat_xs = np.pi*(mat_x-np.min(mat_x))/(np.max(mat_x)-np.min(mat_x))\n",
    "mat_ys = mat_y"
   ]
  },
  {
   "cell_type": "code",
   "execution_count": null,
   "id": "e988b9df",
   "metadata": {},
   "outputs": [],
   "source": []
  },
  {
   "cell_type": "code",
   "execution_count": 55,
   "id": "2851107a",
   "metadata": {},
   "outputs": [],
   "source": [
    "data = pd.DataFrame(mat_xs)\n",
    "data_y_orig = pd.DataFrame(mat_ys)\n",
    "sample = 100\n",
    "test_sample = 100\n",
    "\n",
    "sto_ind = np.random.randint(0,len(data),sample)\n",
    "data_sto = pd.DataFrame(data).iloc[sto_ind,:]\n",
    "data_sto_y =pd.DataFrame(data_y_orig).iloc[sto_ind,:]\n",
    "  \n",
    "sto_ind = np.random.randint(0,len(data),test_sample)\n",
    "data_sto_test = pd.DataFrame(data).iloc[sto_ind,:]\n",
    "data_sto_test_y =pd.DataFrame(data_y_orig).iloc[sto_ind,:]"
   ]
  },
  {
   "cell_type": "code",
   "execution_count": 59,
   "id": "53ae000a",
   "metadata": {},
   "outputs": [],
   "source": [
    "kernel_list =  [kernel_A,kernel_B,kernel_C,kernel_D,kernel_E,kernel_F]"
   ]
  },
  {
   "cell_type": "code",
   "execution_count": 60,
   "id": "09494db6",
   "metadata": {},
   "outputs": [
    {
     "name": "stderr",
     "output_type": "stream",
     "text": [
      "100%|██████████| 100/100 [01:46<00:00,  1.07s/it]\n",
      "100%|██████████| 100/100 [03:24<00:00,  2.05s/it]\n",
      "100%|██████████| 100/100 [03:10<00:00,  1.90s/it]\n",
      "100%|██████████| 100/100 [06:23<00:00,  3.84s/it]\n",
      "100%|██████████| 100/100 [02:42<00:00,  1.63s/it]\n",
      "100%|██████████| 100/100 [05:40<00:00,  3.40s/it]\n",
      "100%|██████████| 100/100 [03:23<00:00,  2.04s/it]\n",
      "100%|██████████| 100/100 [07:01<00:00,  4.21s/it]\n",
      "100%|██████████| 100/100 [03:21<00:00,  2.01s/it]\n",
      "100%|██████████| 100/100 [06:45<00:00,  4.06s/it]\n",
      "100%|██████████| 100/100 [02:18<00:00,  1.39s/it]\n",
      "100%|██████████| 100/100 [04:35<00:00,  2.75s/it]\n"
     ]
    }
   ],
   "source": [
    "gram_kernel_set= []\n",
    "gram_kernel_test_set =[]\n",
    "comp=1\n",
    "backend = QasmSimulator()\n",
    "\n",
    "gram_matrix = Gram_gaussian(data_sto,comp)\n",
    "gram_test_matrix = Gram_gaussian_test(data_sto,data_sto_test,comp)\n",
    "    \n",
    "gram_kernel_set += [gram_matrix]\n",
    "gram_kernel_test_set += [gram_test_matrix]\n",
    "\n",
    "for i in range(len(kernel_list)) :\n",
    "    gram_matrix = get_gram_multi(data=data_sto,kernel_fun=kernel_list[i],layer=1,backend=backend,shots=1000)\n",
    "    gram_test_matrix = get_gram_test_multi(data=data_sto,test_data = data_sto_test,kernel_fun=kernel_list[i],layer=1,backend=backend,shots=1000)\n",
    "    \n",
    "    gram_kernel_set += [gram_matrix]\n",
    "    gram_kernel_test_set += [gram_test_matrix]"
   ]
  },
  {
   "cell_type": "code",
   "execution_count": 62,
   "id": "b77c42cd",
   "metadata": {},
   "outputs": [],
   "source": [
    "save_folder = \"result/yeast1\"\n",
    "\n",
    "pd.DataFrame(mat_xs).to_csv(save_folder+\"/datasets_X_S.csv\")\n",
    "pd.DataFrame(mat_ys).to_csv(save_folder+\"/datasets_y.csv\")\n",
    "pd.DataFrame(data_sto.index).to_csv(save_folder+\"/sto_index.csv\")\n",
    "pd.DataFrame(data_sto_test.index).to_csv(save_folder+\"/sto_test_index.csv\")\n",
    "for i in range(7):\n",
    "   pd.DataFrame(gram_kernel_set[i]).to_csv(save_folder+\"/gram_kernel\"+str(i)+\".csv\")\n",
    "   pd.DataFrame(gram_kernel_test_set[i]).to_csv(save_folder+\"/gram_kernel_test\"+str(i)+\".csv\")"
   ]
  },
  {
   "cell_type": "code",
   "execution_count": null,
   "id": "943894db",
   "metadata": {},
   "outputs": [],
   "source": []
  }
 ],
 "metadata": {
  "kernelspec": {
   "display_name": "Python 3.9.13 ('base')",
   "language": "python",
   "name": "python3"
  },
  "language_info": {
   "codemirror_mode": {
    "name": "ipython",
    "version": 3
   },
   "file_extension": ".py",
   "mimetype": "text/x-python",
   "name": "python",
   "nbconvert_exporter": "python",
   "pygments_lexer": "ipython3",
   "version": "3.9.13"
  },
  "vscode": {
   "interpreter": {
    "hash": "84fb82bab20c569585c4af9397c7309d3c8bcf8e92190772bb316fae4802aa46"
   }
  }
 },
 "nbformat": 4,
 "nbformat_minor": 5
}
